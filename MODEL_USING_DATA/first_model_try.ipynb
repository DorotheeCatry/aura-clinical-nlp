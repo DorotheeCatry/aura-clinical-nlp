{
 "cells": [
  {
   "cell_type": "code",
   "execution_count": 1,
   "id": "0b28262e",
   "metadata": {},
   "outputs": [
    {
     "data": {
      "text/html": [
       "<div>\n",
       "<style scoped>\n",
       "    .dataframe tbody tr th:only-of-type {\n",
       "        vertical-align: middle;\n",
       "    }\n",
       "\n",
       "    .dataframe tbody tr th {\n",
       "        vertical-align: top;\n",
       "    }\n",
       "\n",
       "    .dataframe thead th {\n",
       "        text-align: right;\n",
       "    }\n",
       "</style>\n",
       "<table border=\"1\" class=\"dataframe\">\n",
       "  <thead>\n",
       "    <tr style=\"text-align: right;\">\n",
       "      <th></th>\n",
       "      <th>date</th>\n",
       "      <th>diagnostics</th>\n",
       "      <th>observations</th>\n",
       "      <th>id_patient</th>\n",
       "      <th>id_clinician</th>\n",
       "    </tr>\n",
       "  </thead>\n",
       "  <tbody>\n",
       "    <tr>\n",
       "      <th>0</th>\n",
       "      <td>1970-08-10</td>\n",
       "      <td>NaN</td>\n",
       "      <td>Body Height 119.0 cm : Pain severity - 0-10 ve...</td>\n",
       "      <td>ee89e234-7ec2-5e09-0acf-20a7de6a7b5a</td>\n",
       "      <td>060fe492-01e0-3dbf-8466-f200172bd3f3</td>\n",
       "    </tr>\n",
       "    <tr>\n",
       "      <th>1</th>\n",
       "      <td>1970-12-21</td>\n",
       "      <td>NaN</td>\n",
       "      <td>Body Height 121.6 cm : Pain severity - 0-10 ve...</td>\n",
       "      <td>ee89e234-7ec2-5e09-0acf-20a7de6a7b5a</td>\n",
       "      <td>eb3f29bf-6f25-34d7-a124-79537c3d893a</td>\n",
       "    </tr>\n",
       "    <tr>\n",
       "      <th>2</th>\n",
       "      <td>1971-08-16</td>\n",
       "      <td>Medication review due (situation) : Gingivitis...</td>\n",
       "      <td>Body Height 125.0 cm : Pain severity - 0-10 ve...</td>\n",
       "      <td>ee89e234-7ec2-5e09-0acf-20a7de6a7b5a</td>\n",
       "      <td>060fe492-01e0-3dbf-8466-f200172bd3f3</td>\n",
       "    </tr>\n",
       "    <tr>\n",
       "      <th>3</th>\n",
       "      <td>1972-08-21</td>\n",
       "      <td>Medication review due (situation).</td>\n",
       "      <td>Body Height 130.6 cm : Pain severity - 0-10 ve...</td>\n",
       "      <td>ee89e234-7ec2-5e09-0acf-20a7de6a7b5a</td>\n",
       "      <td>060fe492-01e0-3dbf-8466-f200172bd3f3</td>\n",
       "    </tr>\n",
       "    <tr>\n",
       "      <th>4</th>\n",
       "      <td>1973-08-27</td>\n",
       "      <td>Medication review due (situation).</td>\n",
       "      <td>Body Height 135.5 cm : Pain severity - 0-10 ve...</td>\n",
       "      <td>ee89e234-7ec2-5e09-0acf-20a7de6a7b5a</td>\n",
       "      <td>060fe492-01e0-3dbf-8466-f200172bd3f3</td>\n",
       "    </tr>\n",
       "  </tbody>\n",
       "</table>\n",
       "</div>"
      ],
      "text/plain": [
       "         date                                        diagnostics  \\\n",
       "0  1970-08-10                                                NaN   \n",
       "1  1970-12-21                                                NaN   \n",
       "2  1971-08-16  Medication review due (situation) : Gingivitis...   \n",
       "3  1972-08-21                 Medication review due (situation).   \n",
       "4  1973-08-27                 Medication review due (situation).   \n",
       "\n",
       "                                        observations  \\\n",
       "0  Body Height 119.0 cm : Pain severity - 0-10 ve...   \n",
       "1  Body Height 121.6 cm : Pain severity - 0-10 ve...   \n",
       "2  Body Height 125.0 cm : Pain severity - 0-10 ve...   \n",
       "3  Body Height 130.6 cm : Pain severity - 0-10 ve...   \n",
       "4  Body Height 135.5 cm : Pain severity - 0-10 ve...   \n",
       "\n",
       "                             id_patient                          id_clinician  \n",
       "0  ee89e234-7ec2-5e09-0acf-20a7de6a7b5a  060fe492-01e0-3dbf-8466-f200172bd3f3  \n",
       "1  ee89e234-7ec2-5e09-0acf-20a7de6a7b5a  eb3f29bf-6f25-34d7-a124-79537c3d893a  \n",
       "2  ee89e234-7ec2-5e09-0acf-20a7de6a7b5a  060fe492-01e0-3dbf-8466-f200172bd3f3  \n",
       "3  ee89e234-7ec2-5e09-0acf-20a7de6a7b5a  060fe492-01e0-3dbf-8466-f200172bd3f3  \n",
       "4  ee89e234-7ec2-5e09-0acf-20a7de6a7b5a  060fe492-01e0-3dbf-8466-f200172bd3f3  "
      ]
     },
     "execution_count": 1,
     "metadata": {},
     "output_type": "execute_result"
    }
   ],
   "source": [
    "import pandas as pd\n",
    "\n",
    "generated_data = pd.read_csv('../DATA/GENERATED_FILES/resume_observations_diagnostics.csv')\n",
    "generated_data.head()"
   ]
  },
  {
   "cell_type": "code",
   "execution_count": null,
   "id": "a8ba1926",
   "metadata": {},
   "outputs": [],
   "source": []
  }
 ],
 "metadata": {
  "kernelspec": {
   "display_name": ".venv",
   "language": "python",
   "name": "python3"
  },
  "language_info": {
   "codemirror_mode": {
    "name": "ipython",
    "version": 3
   },
   "file_extension": ".py",
   "mimetype": "text/x-python",
   "name": "python",
   "nbconvert_exporter": "python",
   "pygments_lexer": "ipython3",
   "version": "3.12.3"
  }
 },
 "nbformat": 4,
 "nbformat_minor": 5
}
