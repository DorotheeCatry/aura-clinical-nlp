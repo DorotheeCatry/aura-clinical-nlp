{
 "cells": [
  {
   "cell_type": "markdown",
   "id": "3e63a22c",
   "metadata": {},
   "source": [
    "# Dataset de phrases médicales par pathologies\n",
    "\n",
    "Format\n",
    "Chaque ligne contient : Phrase médicale,Code_pathologie\n",
    "\n",
    "Codes 10-19 : Pathologies Chroniques - Suivi régulier (320‰)\n",
    "\n",
    "Codes 20-29 : Infections Courantes (230‰)\n",
    "\n",
    "Codes 30-39 : Troubles Digestifs (90‰)\n",
    "\n",
    "Codes 50-59 : Problèmes Dermatologiques (70‰)\n",
    "\n",
    "Codes 60-69 : Troubles ORL et Respiratoires chroniques (60‰)\n",
    "\n",
    "Codes 70-79 : Troubles Gynécologiques et Urologiques (55‰)\n",
    "\n",
    "Codes 80-89 : Troubles Cardiovasculaires aigus - 20‰\n",
    "\n",
    "Codes 90-99 : Troubles Neurologiques - 15‰\n",
    "\n",
    "Dataset complet\n"
   ]
  },
  {
   "cell_type": "code",
   "execution_count": 1,
   "id": "b35031f5",
   "metadata": {},
   "outputs": [],
   "source": [
    "import pandas as pd\n",
    "\n",
    "# Création du dataset de phrases médicales\n",
    "data = []\n"
   ]
  },
  {
   "cell_type": "markdown",
   "id": "e7b1e82a",
   "metadata": {},
   "source": [
    "### 100. Pathologies Chroniques - Suivi régulier (320‰)\n",
    "\n"
   ]
  },
  {
   "cell_type": "code",
   "execution_count": 2,
   "id": "41fda2fc",
   "metadata": {},
   "outputs": [],
   "source": [
    "# Ajout d'un mapping pour les noms des pathologies\n",
    "pathology_mapping = {\n",
    "    111: \"Hypertension artérielle : HTA essentielle\",\n",
    "    112: \"Hypertension artérielle : HTA secondaire\", \n",
    "    113: \"Hypertension artérielle : Complications cardiovasculaires de l'HTA\"\n",
    "}"
   ]
  },
  {
   "cell_type": "markdown",
   "id": "0db34669",
   "metadata": {},
   "source": [
    "#### 110. Hypertension artérielle - 170‰ (diagnostic le plus fréquent)"
   ]
  },
  {
   "cell_type": "code",
   "execution_count": 3,
   "id": "fc2d077a",
   "metadata": {},
   "outputs": [
    {
     "name": "stdout",
     "output_type": "stream",
     "text": [
      "144/144\n",
      "9/9\n",
      "17/17\n"
     ]
    }
   ],
   "source": [
    "from data_generator import DataGenerator\n",
    "\n",
    "generator = DataGenerator()\n",
    "\n",
    "hta_essentielle = generator.generate_111()\n",
    "hta_secondaire = generator.generate_112()\n",
    "complications_hta = generator.generate_113()\n",
    "\n",
    "print(f\"{len(hta_essentielle)}/144\")\n",
    "data = hta_essentielle\n",
    "\n",
    "print(f\"{len(hta_secondaire)}/9\")\n",
    "data.extend(hta_secondaire)\n",
    "\n",
    "print(f\"{len(complications_hta)}/17\")\n",
    "data.extend(complications_hta)\n"
   ]
  },
  {
   "cell_type": "markdown",
   "id": "d714f3fe",
   "metadata": {},
   "source": [
    "#### 120. Diabète (types 1 et 2) - 85‰"
   ]
  },
  {
   "cell_type": "code",
   "execution_count": 4,
   "id": "421eafb0",
   "metadata": {},
   "outputs": [],
   "source": [
    "pathology_mapping[121] = \"Diabète de type 2\" # plus fréquent donc en premier\n",
    "pathology_mapping[122] = \"Diabète de type 1\""
   ]
  },
  {
   "cell_type": "code",
   "execution_count": 5,
   "id": "0c931c8f",
   "metadata": {},
   "outputs": [
    {
     "name": "stdout",
     "output_type": "stream",
     "text": [
      "75/75\n",
      "10/10\n"
     ]
    }
   ],
   "source": [
    "diabete_type1 = generator.generate_121()\n",
    "diabete_type2 = generator.generate_122()\n",
    "\n",
    "print(f\"{len(diabete_type1)}/75\")\n",
    "data.extend(diabete_type1)\n",
    "\n",
    "print(f\"{len(diabete_type2)}/10\")\n",
    "data.extend(diabete_type2)"
   ]
  },
  {
   "cell_type": "markdown",
   "id": "6d604f14",
   "metadata": {},
   "source": [
    "#### 130. Troubles de l'humeur et psychiques - 65‰"
   ]
  },
  {
   "cell_type": "code",
   "execution_count": 6,
   "id": "13f8886c",
   "metadata": {},
   "outputs": [],
   "source": [
    "pathology_mapping[131] = \"Troubles de l'humeur et psychiques : Dépression majeure\"\n",
    "pathology_mapping[132] = \"Troubles de l'humeur et psychiques : Anxiété généralisée\"\n",
    "pathology_mapping[133] = \"Troubles de l'humeur et psychiques : Troubles bipolaires \"\n",
    "pathology_mapping[134] = \"Troubles de l'humeur et psychiques : Troubles du sommeil associés\""
   ]
  },
  {
   "cell_type": "code",
   "execution_count": 7,
   "id": "e3a3bd38",
   "metadata": {},
   "outputs": [
    {
     "name": "stdout",
     "output_type": "stream",
     "text": [
      "35/35\n",
      "20/20\n",
      "5/5\n",
      "5/5\n"
     ]
    }
   ],
   "source": [
    "depression_majeure = generator.generate_131()\n",
    "anxiete_generalisee = generator.generate_132()\n",
    "troubles_bipolaires = generator.generate_133()\n",
    "troubles_du_sommeil_associes = generator.generate_134()\n",
    "\n",
    "print(f\"{len(depression_majeure)}/35\")\n",
    "data.extend(depression_majeure)\n",
    "\n",
    "print(f\"{len(anxiete_generalisee)}/20\")\n",
    "data.extend(anxiete_generalisee)\n",
    "\n",
    "print(f\"{len(troubles_bipolaires)}/5\")\n",
    "data.extend(troubles_bipolaires)\n",
    "\n",
    "print(f\"{len(troubles_du_sommeil_associes)}/5\")\n",
    "data.extend(troubles_du_sommeil_associes)"
   ]
  },
  {
   "cell_type": "code",
   "execution_count": 8,
   "id": "7d50d7eb",
   "metadata": {},
   "outputs": [],
   "source": [
    "\n",
    "# Création du DataFrame\n",
    "df_medical = pd.DataFrame(data, columns=['phrase', 'pathologie'])\n",
    "df_medical['nom_pathologie'] = df_medical['pathologie'].map(pathology_mapping)\n",
    "\n",
    "df_medical.to_csv('medical_dataset_V2.csv', index=False, encoding='utf-8')"
   ]
  },
  {
   "cell_type": "code",
   "execution_count": 9,
   "id": "13f8886c",
   "metadata": {},
   "outputs": [
    {
     "name": "stdout",
     "output_type": "stream",
     "text": [
      "Statistiques du dataset\n",
      "\n",
      "Total : 320 phrases\n",
      "\n"
     ]
    }
   ],
   "source": [
    "print(\"Statistiques du dataset\\n\")\n",
    "\n",
    "total_num = len(df_medical)\n",
    "print(f\"Total : {total_num} phrases\\n\")\n",
    "\n",
    "# cardio_num = (df_medical[\"pathologie\"] == 0).sum()\n",
    "# print(f\"Pathologies cardiovasculaires : {cardio_num} phrases ({cardio_num/total_num* 100:.1f}%)\")\n",
    "# neuro_num = (df_medical[\"pathologie\"] == 1).sum()\n",
    "# print(f\"Pathologies psychiques : {neuro_num} phrases ({neuro_num/total_num* 100:.1f}%)\")\n",
    "# meta_num =  (df_medical[\"pathologie\"] == 2).sum()\n",
    "# print(f\"Pathologies métaboliques : {meta_num} phrases ({meta_num/total_num* 100:.1f}%)\")"
   ]
  },
  {
   "cell_type": "markdown",
   "id": "424e7cb3",
   "metadata": {},
   "source": [
    "## Utilisation :\n",
    "Ce dataset peut être utilisé pour :\n",
    "\n",
    "\n",
    "Entraînement de modèles de classification de textes médicaux\n",
    "\n",
    "Analyse de sentiment dans le domaine médical\n",
    "\n",
    "Développement d'outils de traitement automatique du langage naturel en santé\n",
    "\n",
    "Formation d'assistants virtuels médicaux"
   ]
  }
 ],
 "metadata": {
  "kernelspec": {
   "display_name": ".venv",
   "language": "python",
   "name": "python3"
  },
  "language_info": {
   "codemirror_mode": {
    "name": "ipython",
    "version": 3
   },
   "file_extension": ".py",
   "mimetype": "text/x-python",
   "name": "python",
   "nbconvert_exporter": "python",
   "pygments_lexer": "ipython3",
   "version": "3.12.3"
  }
 },
 "nbformat": 4,
 "nbformat_minor": 5
}
