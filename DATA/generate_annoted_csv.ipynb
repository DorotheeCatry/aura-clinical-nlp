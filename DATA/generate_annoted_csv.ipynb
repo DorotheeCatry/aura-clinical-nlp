{
 "cells": [
  {
   "cell_type": "code",
   "execution_count": 1,
   "id": "e041e561",
   "metadata": {},
   "outputs": [],
   "source": [
    "from synthea_csv_summarizer import SyntheaCSVSummarizer\n",
    "\n",
    "def main_function(data_directory):\n",
    "    \"\"\"Fonction principale\"\"\"\n",
    "    summarizer = SyntheaCSVSummarizer(data_directory)\n",
    "    summary_df = summarizer.create_summary_csv()\n",
    "    \n",
    "    if summary_df is not None:\n",
    "        summarizer.generate_stats(summary_df)\n",
    "        return summary_df\n",
    "    \n",
    "    return None\n"
   ]
  },
  {
   "cell_type": "code",
   "execution_count": 2,
   "id": "870bb94b",
   "metadata": {},
   "outputs": [
    {
     "name": "stdout",
     "output_type": "stream",
     "text": [
      "Générateur de résumé d'observations Synthea\n",
      "Répertoire de données: ./DATA\n",
      "Chargement des données CSV...\n",
      "Chargé: 3929 patients, 213537 encounters\n",
      "Chargement des observations CSV...\n",
      "Chargé: 2680567 observations\n",
      "Extraction des notes FHIR...\n",
      "Erreur lors du traitement de DATA/fhir/Bertha558_Tricia672_Sporer811_606610da-ded5-038f-0df5-0b518efd5641.json: Expecting property name enclosed in double quotes: line 381676 column 8 (char 13066240)\n",
      "Extrait 0 notes FHIR\n",
      "Création du résumé...\n",
      "Erreur lors du traitement de l'observation unknown: sequence item 0: expected str instance, float found\n",
      "\n",
      "Résumé créé avec succès!\n",
      "Fichier: DATA/resume_observations.csv\n",
      "Nombre de lignes: 2680566\n",
      "Colonnes: ['date', 'nom_patient', 'id_clinicien', 'observations', 'notes_clinicien']\n",
      "\n",
      "Aperçu des premières lignes:\n",
      "              date         nom_patient                          id_clinicien                                                                                                         observations notes_clinicien\n",
      "104950  1917-12-23  Trinidad33 King743  0f5585d1-cf8c-3541-a453-3ccf92b331b2                         Tobacco smoking status | Valeur: Never smoked tobacco (finding) | Type: text | Code: 72166-2                \n",
      "104927  1917-12-23  Trinidad33 King743  0f5585d1-cf8c-3541-a453-3ccf92b331b2                                                         Body Height | Valeur: 51.0 cm | Type: numeric | Code: 8302-2                \n",
      "104928  1917-12-23  Trinidad33 King743  0f5585d1-cf8c-3541-a453-3ccf92b331b2  Pain severity - 0-10 verbal numeric rating [Score] - Reported | Valeur: 3.0 {score} | Type: numeric | Code: 72514-3                \n",
      "104929  1917-12-23  Trinidad33 King743  0f5585d1-cf8c-3541-a453-3ccf92b331b2                                                         Body Weight | Valeur: 4.0 kg | Type: numeric | Code: 29463-7                \n",
      "104931  1917-12-23  Trinidad33 King743  0f5585d1-cf8c-3541-a453-3ccf92b331b2                                   Weight-for-length Per age and sex | Valeur: 74.8 % | Type: numeric | Code: 77606-2                \n",
      "\n",
      "==================================================\n",
      "STATISTIQUES DU RÉSUMÉ\n",
      "==================================================\n",
      "Total observations: 2680566\n",
      "Patients uniques: 3926\n",
      "Cliniciens uniques: 699\n",
      "Période: 1917-12-23 à 2025-06-23\n",
      "\n",
      "Top 5 cliniciens:\n",
      "  cb766fb3-8f91-34ef-b821-03f08478eff3: 124200 observations\n",
      "  Unknown: 105158 observations\n",
      "  df95ac3e-f6ab-3129-8c46-5afbeca0efc9: 50195 observations\n",
      "  19e54a93-04ea-3c21-bf8c-429f67b55dac: 49566 observations\n",
      "  fc8f5d61-1d76-31c9-8cc6-2818407d9133: 30986 observations\n",
      "\n",
      "Observations avec notes: 0 (0.0%)\n",
      "\n",
      "✅ Résumé créé avec succès dans ./DATA/resume_observations.csv\n"
     ]
    }
   ],
   "source": [
    "# Remplace par le chemin vers ton dossier DATA\n",
    "DATA_DIR = \"./DATA\"\n",
    "\n",
    "print(\"Générateur de résumé d'observations Synthea\")\n",
    "print(f\"Répertoire de données: {DATA_DIR}\")\n",
    "\n",
    "summary = main_function(DATA_DIR)\n",
    "\n",
    "if summary is not None:\n",
    "    print(f\"\\n✅ Résumé créé avec succès dans {DATA_DIR}/resume_observations.csv\")\n",
    "else:\n",
    "    print(\"\\n❌ Erreur lors de la création du résumé\")\n"
   ]
  }
 ],
 "metadata": {
  "kernelspec": {
   "display_name": ".venv",
   "language": "python",
   "name": "python3"
  },
  "language_info": {
   "codemirror_mode": {
    "name": "ipython",
    "version": 3
   },
   "file_extension": ".py",
   "mimetype": "text/x-python",
   "name": "python",
   "nbconvert_exporter": "python",
   "pygments_lexer": "ipython3",
   "version": "3.12.3"
  }
 },
 "nbformat": 4,
 "nbformat_minor": 5
}
