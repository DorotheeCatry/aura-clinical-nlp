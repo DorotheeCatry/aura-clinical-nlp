{
 "cells": [
  {
   "cell_type": "code",
   "execution_count": null,
   "id": "f2783e20",
   "metadata": {},
   "outputs": [],
   "source": [
    "from transformers import pipeline\n",
    "\n",
    "translator = pipeline(\"translation\", model=\"Helsinki-NLP/opus-mt-fr-en\")\n",
    "\n",
    "def translate_fr_to_en(text_fr):\n",
    "    result = translator(text_fr, max_length=512)\n",
    "    return result[0]['translation_text']"
   ]
  },
  {
   "cell_type": "code",
   "execution_count": null,
   "id": "cac36c79",
   "metadata": {},
   "outputs": [],
   "source": [
    "import pandas as pd\n",
    "from transformers import pipeline\n",
    "from sentence_transformers import SentenceTransformer, util\n",
    "\n",
    "# 1. Traduction\n",
    "translator = pipeline(\"translation\", model=\"Helsinki-NLP/opus-mt-fr-en\")\n",
    "def translate_fr_to_en(text_fr):\n",
    "    result = translator(text_fr, max_length=512)\n",
    "    return result[0]['translation_text']\n",
    "\n",
    "# 2. Charger Synthea\n",
    "patients = pd.read_csv(\"synthea_output/csv/patients.csv\")\n",
    "conditions = pd.read_csv(\"synthea_output/csv/conditions.csv\")\n",
    "encounters = pd.read_csv(\"synthea_output/csv/encounters.csv\")\n",
    "\n",
    "# 3. Préparer un texte descriptif par patient (concaténation conditions + encounters)\n",
    "def get_patient_text(pid):\n",
    "    conds = conditions[conditions['patient_id'] == pid]['description'].fillna('').str.cat(sep=' ')\n",
    "    encs = encounters[encounters['patient_id'] == pid]['description'].fillna('').str.cat(sep=' ')\n",
    "    return conds + ' ' + encs\n",
    "\n",
    "patients['text_data'] = patients['id'].apply(get_patient_text)\n",
    "\n",
    "# 4. Embeddings\n",
    "model = SentenceTransformer('all-MiniLM-L6-v2')\n",
    "\n",
    "patient_embeddings = model.encode(patients['text_data'].tolist(), convert_to_tensor=True)\n",
    "\n",
    "def find_top_patients(text_en, top_k=3):\n",
    "    query_emb = model.encode(text_en, convert_to_tensor=True)\n",
    "    cos_scores = util.cos_sim(query_emb, patient_embeddings)[0]\n",
    "    top_results = cos_scores.topk(k=top_k)\n",
    "    return [(patients.iloc[idx]['id'], cos_scores[idx].item()) for idx in top_results.indices]\n",
    "\n",
    "# 5. Utilisation\n",
    "text_fr = \"Fièvre élevée, toux sèche, difficulté à respirer.\"\n",
    "text_en = translate_fr_to_en(text_fr)\n",
    "\n",
    "top_patients = find_top_patients(text_en)\n",
    "\n",
    "for pid, score in top_patients:\n",
    "    print(f\"Patient {pid} - Score similarité: {score:.3f}\")\n",
    "    conds = conditions[conditions['patient_id'] == pid][['description', 'start_date', 'end_date']]\n",
    "    print(\"Conditions associées :\")\n",
    "    print(conds.head())"
   ]
  }
 ],
 "metadata": {
  "language_info": {
   "name": "python"
  }
 },
 "nbformat": 4,
 "nbformat_minor": 5
}
