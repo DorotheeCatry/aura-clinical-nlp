{
 "cells": [
  {
   "cell_type": "code",
   "execution_count": 1,
   "id": "2c3f6a49",
   "metadata": {},
   "outputs": [
    {
     "name": "stdout",
     "output_type": "stream",
     "text": [
      "torch.cuda.is_available(): True\n"
     ]
    }
   ],
   "source": [
    "import torch\n",
    "\n",
    "print(f\"torch.cuda.is_available(): {torch.cuda.is_available()}\")\n",
    "\n"
   ]
  },
  {
   "cell_type": "markdown",
   "id": "dd08127f",
   "metadata": {},
   "source": [
    "Pour vider le cache et retélécharger les modèles : taper la commande bash \n",
    "rm -rf ~/.cache/huggingface/hub\n"
   ]
  },
  {
   "cell_type": "code",
   "execution_count": 2,
   "id": "4127d7ab",
   "metadata": {},
   "outputs": [
    {
     "name": "stderr",
     "output_type": "stream",
     "text": [
      "Device set to use cpu\n"
     ]
    },
    {
     "name": "stdout",
     "output_type": "stream",
     "text": [
      "Modèle 'dbddv01/gpt2-french-small' chargé avec succès sur CPU.\n",
      "Modèle 'facebook/mbart-large-50-many-to-many-mmt' chargé avec succès.\n"
     ]
    }
   ],
   "source": [
    "from pre_trained_models import GPT2Manager, MedicalMT5Manager, MistralManager, FacebookMBartManager\n",
    "\n",
    "gpt2 = GPT2Manager()\n",
    "fbm = FacebookMBartManager() \n",
    "# mt5 = MedicalMT5Manager()\n",
    "# mist = MistralManager() "
   ]
  },
  {
   "cell_type": "code",
   "execution_count": 3,
   "id": "f099fddb",
   "metadata": {},
   "outputs": [
    {
     "name": "stdout",
     "output_type": "stream",
     "text": [
      "question: qu'est-ce que c'est une dyspnée ?\n",
      "\n",
      "gpt2: » Il y a là deux types d'« inopéritif », qui peuvent être des « formes de\n",
      "déphosphoration ». Les théories les plus souvent attribuées au psychostimisme\n",
      "sont celle du syndrome d’Asperger ou du syndrome d’épuisement professionnel,.Le\n",
      "tableau suivant présente ...\n",
      "\n",
      "fb: Vous êtes un professionnel de la santé. Répons à la question de façon claire et\n",
      "fiable : qu'est-ce qu'une dyspnée ?\n"
     ]
    }
   ],
   "source": [
    "import text_helper\n",
    "def print_test(request_text:str):\n",
    "    print(f\"question: {request_text}\")\n",
    "\n",
    "    response_text = text_helper.wrap_text(gpt2.generate_fr(request_text))\n",
    "    print(f\"\\ngpt2: {response_text} ...\")\n",
    "\n",
    "    response_text = text_helper.wrap_text(fbm.generate_fr(request_text))\n",
    "    print(f\"\\nfb: {response_text}\")\n",
    "\n",
    "request_text = \"qu'est-ce que c'est une dyspnée ?\"\n",
    "print_test(request_text)"
   ]
  },
  {
   "cell_type": "code",
   "execution_count": 4,
   "id": "5d6c0f1d",
   "metadata": {},
   "outputs": [
    {
     "name": "stdout",
     "output_type": "stream",
     "text": [
      "question: Expliquez les causes et les symptômes de l’hypertension artérielle.\n",
      "\n",
      "gpt2: D'après une étude réalisée en 2009, le syndrome d'Alp Arslanie est reconnu comme\n",
      "« non-menacée » par le gouvernement de l'Union européenne (UE) pour son impact\n",
      "sur l'environnement, notamment dans les pays où il se trouve,,. Une étude\n",
      "publiée en 2015 montre ...\n",
      "\n",
      "fb: Réponse à la question de façon claire et fiable : Explique les causes et les\n",
      "symptômes de l’hypertension artérielle.\n"
     ]
    }
   ],
   "source": [
    "request_text = \"Expliquez les causes et les symptômes de l’hypertension artérielle.\"\n",
    "print_test(request_text)"
   ]
  }
 ],
 "metadata": {
  "kernelspec": {
   "display_name": ".venv",
   "language": "python",
   "name": "python3"
  },
  "language_info": {
   "codemirror_mode": {
    "name": "ipython",
    "version": 3
   },
   "file_extension": ".py",
   "mimetype": "text/x-python",
   "name": "python",
   "nbconvert_exporter": "python",
   "pygments_lexer": "ipython3",
   "version": "3.12.3"
  }
 },
 "nbformat": 4,
 "nbformat_minor": 5
}
