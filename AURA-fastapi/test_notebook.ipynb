{
 "cells": [
  {
   "cell_type": "code",
   "execution_count": null,
   "id": "4127d7ab",
   "metadata": {},
   "outputs": [],
   "source": [
    "from pre_trained_models import GPT2Manager, MedicalMT5Manager, MistralManager\n",
    "\n",
    "gpt2 = GPT2Manager()\n",
    "mt5 = MedicalMT5Manager() \n",
    "# mist = MistralManager() # too long to load"
   ]
  },
  {
   "cell_type": "code",
   "execution_count": null,
   "id": "f099fddb",
   "metadata": {},
   "outputs": [],
   "source": [
    "import text_helper\n",
    "def print_test(request_text:str):\n",
    "    print(f\"question: {request_text}\")\n",
    "\n",
    "    response_text = text_helper.wrap_text(gpt2.generate_fr(request_text))\n",
    "    print(f\"\\ngpt2: {response_text} ...\")\n",
    "\n",
    "    response_text = text_helper.wrap_text(mt5.generate_fr(request_text))\n",
    "    print(f\"\\nmt5: {response_text}\")\n",
    "\n",
    "request_text = \"qu'est-ce que c'est une dyspnée ?\"\n",
    "print_test(request_text)"
   ]
  },
  {
   "cell_type": "code",
   "execution_count": null,
   "id": "5d6c0f1d",
   "metadata": {},
   "outputs": [],
   "source": [
    "request_text = \"Expliquez les causes et les symptômes de l’hypertension artérielle.\"\n",
    "print_test(request_text)"
   ]
  }
 ],
 "metadata": {
  "kernelspec": {
   "display_name": ".venv",
   "language": "python",
   "name": "python3"
  },
  "language_info": {
   "codemirror_mode": {
    "name": "ipython",
    "version": 3
   },
   "file_extension": ".py",
   "mimetype": "text/x-python",
   "name": "python",
   "nbconvert_exporter": "python",
   "pygments_lexer": "ipython3",
   "version": "3.12.3"
  }
 },
 "nbformat": 4,
 "nbformat_minor": 5
}
